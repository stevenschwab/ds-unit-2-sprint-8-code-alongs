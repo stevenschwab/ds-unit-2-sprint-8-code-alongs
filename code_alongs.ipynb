{
  "nbformat": 4,
  "nbformat_minor": 0,
  "metadata": {
    "colab": {
      "provenance": []
    },
    "kernelspec": {
      "name": "python3",
      "display_name": "Python 3"
    },
    "language_info": {
      "name": "python"
    }
  },
  "cells": [
    {
      "cell_type": "code",
      "execution_count": null,
      "metadata": {
        "id": "FRsCzXHBldKT"
      },
      "outputs": [],
      "source": [
        "# Create a square 2D array (list type in Python) of size size x size. Fill the array with 0's.\n",
        "# Then draw a line of 1's down the main diagonal.\n",
        "# This is called an identity matrix.\n",
        "\n",
        "# Example\n",
        "# Input: size = 4\n",
        "# Output: solution(4) =\n",
        "# [\n",
        "#     [1, 0, 0, 0],\n",
        "#     [0, 1, 0, 0],\n",
        "#     [0, 0, 1, 0],\n",
        "#     [0, 0, 0, 1]\n",
        "# ]"
      ]
    },
    {
      "cell_type": "code",
      "source": [
        "def solution(size):\n",
        "  result = []\n",
        "  for i in range(size):\n",
        "    result.append([0] * size)\n",
        "    result[i][i] = 1\n",
        "\n",
        "  return result"
      ],
      "metadata": {
        "id": "aG4uKSz1lt-V"
      },
      "execution_count": 11,
      "outputs": []
    },
    {
      "cell_type": "code",
      "source": [
        "solution(6)"
      ],
      "metadata": {
        "colab": {
          "base_uri": "https://localhost:8080/"
        },
        "id": "Yy8ei3pwlx5G",
        "outputId": "d1a1d345-3674-4f5a-c1c0-9504ccead9d1"
      },
      "execution_count": 12,
      "outputs": [
        {
          "output_type": "execute_result",
          "data": {
            "text/plain": [
              "[[1, 0, 0, 0, 0, 0],\n",
              " [0, 1, 0, 0, 0, 0],\n",
              " [0, 0, 1, 0, 0, 0],\n",
              " [0, 0, 0, 1, 0, 0],\n",
              " [0, 0, 0, 0, 1, 0],\n",
              " [0, 0, 0, 0, 0, 1]]"
            ]
          },
          "metadata": {},
          "execution_count": 12
        }
      ]
    },
    {
      "cell_type": "code",
      "source": [
        "# 3D Array - Depth Sum\n",
        "\n",
        "# Given a 3D array arr of integers, your task is to find the sum of the elements at row i and column j. In the most common visualization of 3D arrays, we can picture rows and columns of a (2D) spreadsheet and each cell having a \"depth\" extruded into space to create a prism-like structure.\n",
        "\n",
        "# So for this problem, the goal is to sum all elements in that third \"depth\" dimension at a particular row and column.\n",
        "\n",
        "# Hint: for a 3D array,\n",
        "## arr[i] returns a 2D array of all elements at row i\n",
        "## arr[i][j] returns a 1D array of all elements at row i, column j\n",
        "## arr[i]j][k] returns the integer at row i, column j, depth k\n",
        "\n",
        "# Knowing this, finding all of the array elements at row i, column j (and any depth) is straightforward. Once you've found the 1D array that contains all of these integers, just sum them up :)\n",
        "\n",
        "# Example\n",
        "\n",
        "# For arr = [[[1,  2,  3,  4,  0,  6],\n",
        "#         [7,  0, -9, 10, 11, 12],\n",
        "#         [0, 14, 15, 16, 17, 18]],\n",
        "#        [[0,  1, 23, 17, 29, 13],\n",
        "#         [1, -2,  3,  4,  5, -6],\n",
        "#         [7,  0,  9,  8,  6,  1]]]\n",
        "#\n",
        "# row = 1\n",
        "# col = 2\n",
        "# the output should be:\n",
        "\n",
        "# solution(arr,1,2) = 31"
      ],
      "metadata": {
        "id": "fbM4n6dMnTof"
      },
      "execution_count": null,
      "outputs": []
    },
    {
      "cell_type": "code",
      "source": [
        "def solution1(arr, row, col):\n",
        "    return sum(arr[row][col])"
      ],
      "metadata": {
        "id": "mUO2sWQKnW2v"
      },
      "execution_count": 28,
      "outputs": []
    },
    {
      "cell_type": "code",
      "source": [
        "arr = [[[1,  2,  3,  4,  0,  6],\n",
        "        [7,  0, -9, 10, 11, 12],\n",
        "        [0, 14, 15, 16, 17, 18]],\n",
        "       [[0,  1, 23, 17, 29, 13],\n",
        "        [1, -2,  3,  4,  5, -6],\n",
        "        [7,  0,  9,  8,  6,  1]]]"
      ],
      "metadata": {
        "id": "gyC4DXGEniPr"
      },
      "execution_count": 29,
      "outputs": []
    },
    {
      "cell_type": "code",
      "source": [
        "solution1(arr, 1, 2)"
      ],
      "metadata": {
        "colab": {
          "base_uri": "https://localhost:8080/"
        },
        "id": "Pt3FVLy_nZSz",
        "outputId": "81a2f96f-a3bf-4e7d-b231-f65bc88b8fee"
      },
      "execution_count": 30,
      "outputs": [
        {
          "output_type": "execute_result",
          "data": {
            "text/plain": [
              "31"
            ]
          },
          "metadata": {},
          "execution_count": 30
        }
      ]
    },
    {
      "cell_type": "code",
      "source": [
        "# Write a function that moves a \"window\" over an array, averaging the values under the window as it goes.\n",
        "\n",
        "# For example, a window of size 3 moving across an array of length 9 might look like this for the first 3 moves (window is the bar over the values):\n",
        "\n",
        "#  _____\n",
        "#  6 2 8 3 7 9 1 0 5    Window over 6,2,8\n",
        "\n",
        "#    _____\n",
        "#  6 2 8 3 7 9 1 0 5    Window over 2,8,3\n",
        "\n",
        "#      _____\n",
        "#  6 2 8 3 7 9 1 0 5    Window over 8,3,7\n",
        "# Your goal is to return an array of averages of the values under the window as it moves.\n",
        "\n",
        "# Example\n",
        "# Input:\n",
        "\n",
        "# a == [20, 64, 73, 58, 74]\n",
        "# window_size == 4\n",
        "# Output:\n",
        "\n",
        "# [53.75, 67.25]"
      ],
      "metadata": {
        "id": "XrH0Xl9opRAf"
      },
      "execution_count": null,
      "outputs": []
    },
    {
      "cell_type": "code",
      "source": [
        "def solution3(a, window_size):\n",
        "  result = []\n",
        "\n",
        "  for i in range(len(a) - window_size + 1):\n",
        "    result.append(sum(a[i:i+window_size]) / window_size)\n",
        "\n",
        "  return result\n",
        "\n",
        "# def solution3(a, window_size):\n",
        "#   averages = []\n",
        "\n",
        "#   for i in range(len(a) - window_size + 1):\n",
        "#     window_sum = 0\n",
        "\n",
        "#     for j in range(window_size):\n",
        "#       window_sum += a[i+j]\n",
        "#     window_avg = window_sum / window_size\n",
        "#     averages.append(window_avg)\n",
        "\n",
        "#   return averages"
      ],
      "metadata": {
        "id": "9MMWBQPCoxcL"
      },
      "execution_count": 46,
      "outputs": []
    },
    {
      "cell_type": "code",
      "source": [
        "a = [20, 64, 73, 58, 74]"
      ],
      "metadata": {
        "id": "SmXpiusVpK7H"
      },
      "execution_count": 32,
      "outputs": []
    },
    {
      "cell_type": "code",
      "source": [
        "solution3(a, 4)"
      ],
      "metadata": {
        "colab": {
          "base_uri": "https://localhost:8080/"
        },
        "id": "6unN094mpIgb",
        "outputId": "6e2c6f81-8a81-4600-9176-a9b1e6418122"
      },
      "execution_count": 47,
      "outputs": [
        {
          "output_type": "execute_result",
          "data": {
            "text/plain": [
              "[53.75, 67.25]"
            ]
          },
          "metadata": {},
          "execution_count": 47
        }
      ]
    }
  ]
}